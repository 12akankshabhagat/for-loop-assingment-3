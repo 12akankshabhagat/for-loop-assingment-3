{
 "cells": [
  {
   "cell_type": "markdown",
   "id": "5087f080-9a47-4af9-836f-d5d1ce8d4e91",
   "metadata": {},
   "source": [
    "## FOR LOOP ASSIGNMENT QUESTIONS"
   ]
  },
  {
   "cell_type": "markdown",
   "id": "c9ac11a3-a7bc-4b55-8126-0617e85cb598",
   "metadata": {},
   "source": [
    "### basic level"
   ]
  },
  {
   "cell_type": "markdown",
   "id": "ec41e657-4ff6-45bc-9644-357b9f8ceb7e",
   "metadata": {},
   "source": [
    "## 1.Write a python program to print the numbers from 1 to 10 using a for loop."
   ]
  },
  {
   "cell_type": "code",
   "execution_count": 1,
   "id": "cdb634a5-f2df-494c-80fd-eb1fbe24caaa",
   "metadata": {},
   "outputs": [
    {
     "name": "stdout",
     "output_type": "stream",
     "text": [
      "1\n",
      "2\n",
      "3\n",
      "4\n",
      "5\n",
      "6\n",
      "7\n",
      "8\n",
      "9\n",
      "10\n"
     ]
    }
   ],
   "source": [
    "for r in range(1,11):\n",
    "    print(r)"
   ]
  },
  {
   "cell_type": "markdown",
   "id": "dfbb7df3-9ade-4126-9974-ac3384610372",
   "metadata": {},
   "source": [
    "### 2.Create a program that calculates the sum of all numbers in a list using a for loop."
   ]
  },
  {
   "cell_type": "code",
   "execution_count": 4,
   "id": "1a1d98c3-9ae5-4581-b831-29466f726fff",
   "metadata": {},
   "outputs": [
    {
     "name": "stdout",
     "output_type": "stream",
     "text": [
      "the sum of numbers is : 28\n"
     ]
    }
   ],
   "source": [
    "my_list = [1,2,3,4,5,6,7]\n",
    "sum_of_numbers = 0\n",
    "for number in my_list:\n",
    "    sum_of_numbers += number\n",
    "print(\"the sum of numbers is :\", sum_of_numbers)"
   ]
  },
  {
   "cell_type": "markdown",
   "id": "a4e159e8-b7fe-42df-b5d0-e3d3db30ff7b",
   "metadata": {},
   "source": [
    "### 3.Write  a program to print the characters of a string in reverse order using a for loop."
   ]
  },
  {
   "cell_type": "code",
   "execution_count": 3,
   "id": "f2ea7122-737c-4dab-8539-4a6868396ab8",
   "metadata": {},
   "outputs": [
    {
     "name": "stdout",
     "output_type": "stream",
     "text": [
      "charecter of string in reversed order: ahsknaka\n"
     ]
    }
   ],
   "source": [
    "my_string = \"akanksha\"\n",
    "for reverse in my_string:\n",
    "    reversed_string = my_string[::-1]\n",
    "print(\"charecter of string in reversed order:\",reversed_string)"
   ]
  },
  {
   "cell_type": "markdown",
   "id": "fcc08194-b513-4a4c-be4a-d19b6eb291d6",
   "metadata": {},
   "source": [
    "### 4.Develop a program that find the factorial of a given number using a for loop."
   ]
  },
  {
   "cell_type": "code",
   "execution_count": 4,
   "id": "388f6c89-6512-4bc8-aff4-229f9d1a292b",
   "metadata": {},
   "outputs": [
    {
     "name": "stdin",
     "output_type": "stream",
     "text": [
      "enter n: 5\n"
     ]
    },
    {
     "name": "stdout",
     "output_type": "stream",
     "text": [
      "factorial of 5 is :2\n",
      "factorial of 5 is :6\n",
      "factorial of 5 is :24\n",
      "factorial of 5 is :120\n"
     ]
    }
   ],
   "source": [
    "n = int(input(\"enter n:\"))\n",
    "fact = 1\n",
    "for i in range(2, n+1):\n",
    "    fact*=i\n",
    "    print(\"factorial of {} is :{}\". format(n,fact))"
   ]
  },
  {
   "cell_type": "markdown",
   "id": "b7bc36b8-4a22-464c-86d6-e71c4bc60bac",
   "metadata": {},
   "source": [
    "### 5.Create a program to print the multiplication table of a given number using a for loop."
   ]
  },
  {
   "cell_type": "code",
   "execution_count": 6,
   "id": "84439073-f72f-456d-bb5f-5814ed537c27",
   "metadata": {},
   "outputs": [
    {
     "name": "stdin",
     "output_type": "stream",
     "text": [
      "enter number for multiplication table: 2\n"
     ]
    },
    {
     "name": "stdout",
     "output_type": "stream",
     "text": [
      "the multiplication table : 2\n",
      "2 x 1 = 2\n",
      "2 x 2 = 4\n",
      "2 x 3 = 6\n",
      "2 x 4 = 8\n",
      "2 x 5 = 10\n",
      "2 x 6 = 12\n",
      "2 x 7 = 14\n",
      "2 x 8 = 16\n",
      "2 x 9 = 18\n",
      "2 x 10 = 20\n"
     ]
    }
   ],
   "source": [
    "number = int(input(\"enter number for multiplication table:\"))\n",
    "print(\"the multiplication table :\",number)\n",
    "for count in range(1,11):\n",
    "    print(number,'x',count,'=', number*count)"
   ]
  },
  {
   "cell_type": "markdown",
   "id": "b18d0a61-4023-42fc-a2af-c8ec339481b5",
   "metadata": {},
   "source": [
    "### 6.Write program that counts the number of even and odd numbers in a list using for loop."
   ]
  },
  {
   "cell_type": "code",
   "execution_count": 9,
   "id": "d8c0ffbc-2429-4a04-8443-41fca2cbca83",
   "metadata": {},
   "outputs": [
    {
     "name": "stdout",
     "output_type": "stream",
     "text": [
      "even numbers in list: 4\n",
      "odd numbers in list: 5\n"
     ]
    }
   ],
   "source": [
    "my_list = [1,2,3,4,5,6,7,8,9]\n",
    "even_count = 0\n",
    "odd_count = 0\n",
    "for number in my_list:\n",
    "    if number % 2 == 0:\n",
    "        even_count += 1\n",
    "    else:\n",
    "        odd_count += 1\n",
    "        \n",
    "print(\"even numbers in list:\",even_count)\n",
    "print(\"odd numbers in list:\", odd_count)"
   ]
  },
  {
   "cell_type": "markdown",
   "id": "2762a105-9a16-41b5-bd93-027c3a56e342",
   "metadata": {},
   "source": [
    "### 7.Develop a program that prints the squares of numbers from 1 to 5 using a for loop."
   ]
  },
  {
   "cell_type": "code",
   "execution_count": 11,
   "id": "4ae18041-6c44-4c9c-8c76-39fab2a9b9d4",
   "metadata": {},
   "outputs": [
    {
     "name": "stdout",
     "output_type": "stream",
     "text": [
      " the square of 6 is 36\n"
     ]
    }
   ],
   "source": [
    "for number in range(1,7):\n",
    "    square = number * number\n",
    "print(f\" the square of {number} is {square}\")"
   ]
  },
  {
   "cell_type": "markdown",
   "id": "d39f4004-a7e8-4ddf-8d45-459cd8921840",
   "metadata": {},
   "source": [
    "### 8.Create a program to find the length of string without using len() function."
   ]
  },
  {
   "cell_type": "code",
   "execution_count": 12,
   "id": "9a8b13be-7f5b-486d-880e-316ebdfe3dcb",
   "metadata": {},
   "outputs": [
    {
     "name": "stdin",
     "output_type": "stream",
     "text": [
      "enter a string: akanksha\n"
     ]
    },
    {
     "name": "stdout",
     "output_type": "stream",
     "text": [
      "the length of string: 8\n"
     ]
    }
   ],
   "source": [
    "my_string = input(\"enter a string:\")\n",
    "length = 0\n",
    "for char in my_string:\n",
    "    length += 1\n",
    "print(\"the length of string:\",length)"
   ]
  },
  {
   "cell_type": "markdown",
   "id": "13dfa0e3-6ba4-4e15-b779-6e839effdc24",
   "metadata": {},
   "source": [
    "### 9.Write a program to calculate the average of a list of numbers using a for loop."
   ]
  },
  {
   "cell_type": "code",
   "execution_count": 16,
   "id": "c610b691-7b38-4545-8ab7-689ca173da0a",
   "metadata": {},
   "outputs": [
    {
     "name": "stdout",
     "output_type": "stream",
     "text": [
      "average of numbers: 1.0\n",
      "average of numbers: 1.5\n",
      "average of numbers: 2.0\n",
      "average of numbers: 2.5\n",
      "average of numbers: 3.0\n"
     ]
    }
   ],
   "source": [
    "my_list = [1,2,3,4,5]\n",
    "total = 0\n",
    "count = 0\n",
    "for number in my_list:\n",
    "    total += number\n",
    "    count += 1\n",
    "    if count != 0:\n",
    "        average = total / count\n",
    "        print(\"average of numbers:\",average)\n"
   ]
  },
  {
   "cell_type": "markdown",
   "id": "9a36bdf8-7bb7-41b5-869d-1e5d0fc08091",
   "metadata": {},
   "source": [
    "### 10.develop a program that prints the first 'n' fibonacci numbers using for loop."
   ]
  },
  {
   "cell_type": "code",
   "execution_count": 18,
   "id": "b7603fbd-08f9-49f1-a0dc-d97986e516df",
   "metadata": {},
   "outputs": [
    {
     "name": "stdin",
     "output_type": "stream",
     "text": [
      "enter number of fibonacci numbers to print: 6\n"
     ]
    },
    {
     "name": "stdout",
     "output_type": "stream",
     "text": [
      "the first 6 fibonacci numbers:\n",
      "0 1 1 the first 6 fibonacci numbers:\n",
      "0 1 1 2 the first 6 fibonacci numbers:\n",
      "0 1 1 2 3 the first 6 fibonacci numbers:\n",
      "0 1 1 2 3 5 "
     ]
    }
   ],
   "source": [
    "n = int(input(\"enter number of fibonacci numbers to print:\"))\n",
    "fibonacci_sequence = [0,1]\n",
    "for i in range(2,n):\n",
    "    next_fibonacci = fibonacci_sequence[i-1] + fibonacci_sequence[i-2]\n",
    "    fibonacci_sequence.append(next_fibonacci)\n",
    "    print(\"the first\",n, \"fibonacci numbers:\")\n",
    "    for number in fibonacci_sequence[:n]:\n",
    "        print(number, end = \" \")"
   ]
  },
  {
   "cell_type": "markdown",
   "id": "95e44866-9f94-49fc-b9b5-e6e975f79d7f",
   "metadata": {},
   "source": [
    "## INTERMEDIATE LEVEL:"
   ]
  },
  {
   "cell_type": "markdown",
   "id": "7d0ee93d-3278-4c02-ad9a-60a9ed8e333b",
   "metadata": {},
   "source": [
    "### 11.Write a program to check if a given list contains any duplicates using a for loop."
   ]
  },
  {
   "cell_type": "code",
   "execution_count": 14,
   "id": "b663ec06-3a13-41cb-a942-0dde806eccca",
   "metadata": {},
   "outputs": [
    {
     "name": "stdout",
     "output_type": "stream",
     "text": [
      "list does not contain duplicates\n",
      "list does not contain duplicates\n",
      "list does not contain duplicates\n",
      "list contains duplicates\n",
      "list contains duplicates\n",
      "list contains duplicates\n",
      "list contains duplicates\n",
      "list contains duplicates\n",
      "list contains duplicates\n",
      "list contains duplicates\n"
     ]
    }
   ],
   "source": [
    "my_list = [1,2,3,4,4,6,5,7,8,8]\n",
    "has_duplicates = False\n",
    "for i in range(len(my_list)):\n",
    "    for j in range(i + 1,len(my_list)):\n",
    "        if my_list[i] == my_list[j]:\n",
    "            has_duplicates = True\n",
    "            break\n",
    "    if has_duplicates:\n",
    "        print(\"list contains duplicates\")\n",
    "    else:\n",
    "        print(\"list does not contain duplicates\")"
   ]
  },
  {
   "cell_type": "markdown",
   "id": "abaa4ba3-14d6-4b42-a6a2-9b2bbb15c339",
   "metadata": {},
   "source": [
    "### 12.Create a program that prints the  prime numbers in a given range using a for loop."
   ]
  },
  {
   "cell_type": "code",
   "execution_count": 18,
   "id": "b6a844b5-c83b-4434-a755-e156525fbd79",
   "metadata": {},
   "outputs": [
    {
     "name": "stdin",
     "output_type": "stream",
     "text": [
      "enter start of range: 2\n",
      "enter end of range: 50\n"
     ]
    },
    {
     "name": "stdout",
     "output_type": "stream",
     "text": [
      "prime numbers in range 2 to 50 are:\n",
      "2 3 5 7 11 13 17 19 23 29 31 37 41 43 47 "
     ]
    }
   ],
   "source": [
    "start = int(input(\"enter start of range:\"))\n",
    "end = int(input(\"enter end of range:\"))\n",
    "print(\"prime numbers in range\", start ,\"to\",end,\"are:\")\n",
    "for num in range(start, end +1):\n",
    "    if num>1:\n",
    "        is_prime = True\n",
    "        for i in range(2, int(num**0.5)+1):\n",
    "            if num % i == 0:\n",
    "                is_prime = False\n",
    "                break\n",
    "        if is_prime:\n",
    "            print(num, end= \" \")\n",
    "            "
   ]
  },
  {
   "cell_type": "markdown",
   "id": "9c8e44d1-77ea-4107-ab11-695d6d8e3815",
   "metadata": {},
   "source": [
    "### 13.develop program that counts the number of vowels in a string using for loop."
   ]
  },
  {
   "cell_type": "code",
   "execution_count": 19,
   "id": "63287ebe-da61-49a6-9c8d-8079baf6b450",
   "metadata": {},
   "outputs": [
    {
     "name": "stdin",
     "output_type": "stream",
     "text": [
      "enter a string: hello akanksha\n"
     ]
    },
    {
     "name": "stdout",
     "output_type": "stream",
     "text": [
      "the numbers of vowels in string: 1\n",
      "the numbers of vowels in string: 2\n",
      "the numbers of vowels in string: 3\n",
      "the numbers of vowels in string: 4\n",
      "the numbers of vowels in string: 5\n"
     ]
    }
   ],
   "source": [
    "my_string = input(\"enter a string:\")\n",
    "vowels = \"aeiou\"\n",
    "vowel_count = 0\n",
    "for char in my_string:\n",
    "    if char in vowels:\n",
    "        vowel_count += 1\n",
    "        print(\"the numbers of vowels in string:\",vowel_count)"
   ]
  },
  {
   "cell_type": "markdown",
   "id": "5805a5e1-17e8-40f9-9b94-f9cf810cacf1",
   "metadata": {},
   "source": [
    "### 14.write program to find maximum element in a 2D list using nested for loop."
   ]
  },
  {
   "cell_type": "code",
   "execution_count": 24,
   "id": "fa1700b8-3dbf-4dcf-b322-11716e248767",
   "metadata": {},
   "outputs": [
    {
     "name": "stdout",
     "output_type": "stream",
     "text": [
      "maximum element: 4\n",
      "maximum element: 6\n",
      "maximum element: 7\n"
     ]
    }
   ],
   "source": [
    "matrix = [[1,2,3,4] ,[2,4,5,6], [4,5,6,7]]\n",
    "max_element = matrix[0][0]\n",
    "for row in matrix:\n",
    "    for element in row:\n",
    "        if element > max_element:\n",
    "            max_element = element\n",
    "            \n",
    "    print(\"maximum element:\",max_element)"
   ]
  },
  {
   "cell_type": "markdown",
   "id": "bc7de8df-c390-4d30-b58f-d3f9ac919297",
   "metadata": {},
   "source": [
    "### 15.Create a program that removes all occurrences of a specific element from list using for loop."
   ]
  },
  {
   "cell_type": "code",
   "execution_count": 5,
   "id": "45ed8680-95f1-4513-8266-74110cd67aae",
   "metadata": {},
   "outputs": [
    {
     "name": "stdout",
     "output_type": "stream",
     "text": [
      "list after removing 2 : [1, 3, 4, 5, 6, 7, 5]\n"
     ]
    }
   ],
   "source": [
    "my_list = [1,2,3,4,5,2,6,2,7,2,5,]\n",
    "element_to_remove = 2\n",
    "for i in my_list:\n",
    "    if i == element_to_remove:\n",
    "        my_list.remove(i)\n",
    "print(\"list after removing\", element_to_remove, \":\", my_list)"
   ]
  },
  {
   "cell_type": "markdown",
   "id": "334382cf-4e52-43a4-9f9d-b74684898a25",
   "metadata": {},
   "source": [
    "### 16.Develop a program that generates a multiplication table for numbers from 1 to 5 using nested for loop."
   ]
  },
  {
   "cell_type": "code",
   "execution_count": 9,
   "id": "52f5238a-cf07-4b80-a4ef-52c957a0c460",
   "metadata": {},
   "outputs": [
    {
     "name": "stdout",
     "output_type": "stream",
     "text": [
      " multiplication table for 2:\n",
      "2 x 1 = 2\n",
      "2 x 2 = 4\n",
      "2 x 3 = 6\n",
      "2 x 4 = 8\n",
      "2 x 5 = 10\n",
      "2 x 6 = 12\n",
      "2 x 7 = 14\n",
      "2 x 8 = 16\n",
      "2 x 9 = 18\n",
      "2 x 10 = 20\n",
      "\n"
     ]
    }
   ],
   "source": [
    "start = 2\n",
    "end = 2\n",
    "for num in range(start, end + 1):\n",
    "    print(f\" multiplication table for {num}:\")\n",
    "    for i in range(1,11):\n",
    "        result = num *i\n",
    "        print(f\"{num} x {i} = {result}\")\n",
    "    print()"
   ]
  },
  {
   "cell_type": "markdown",
   "id": "7bd4026f-501f-4a18-88e5-014a30dbda41",
   "metadata": {},
   "source": [
    "### 17.Write a program that convert a list of fahrenheit temperatures to celsius using for loop."
   ]
  },
  {
   "cell_type": "code",
   "execution_count": 11,
   "id": "9757e014-1faf-48ed-be4e-d4351e4ace93",
   "metadata": {},
   "outputs": [
    {
     "name": "stdout",
     "output_type": "stream",
     "text": [
      "50f is 10.00c\n",
      "60f is 15.56c\n",
      "70f is 21.11c\n",
      "80f is 26.67c\n"
     ]
    }
   ],
   "source": [
    "fahrenheit_temp = [50,60,70,80]\n",
    "celsius_temp = []\n",
    "for fahrenheit in fahrenheit_temp:\n",
    "    celsius = (fahrenheit - 32)*5/9\n",
    "    celsius_temp.append(celsius)\n",
    "for i in range(len(fahrenheit_temp)):\n",
    "    print(f\"{fahrenheit_temp[i]}f is {celsius_temp[i]:.2f}c\")"
   ]
  },
  {
   "cell_type": "markdown",
   "id": "ab377925-36b6-4cad-a407-9d265479b433",
   "metadata": {},
   "source": [
    "### 18.Create a program to print the common elements from two lists using a for loop."
   ]
  },
  {
   "cell_type": "code",
   "execution_count": 12,
   "id": "b092815b-f28e-48bb-868b-2e424357f199",
   "metadata": {},
   "outputs": [
    {
     "name": "stdout",
     "output_type": "stream",
     "text": [
      "common elements: [2, 5, 6]\n"
     ]
    }
   ],
   "source": [
    "list1 = [1,2,3,4,5,6]\n",
    "list2 = [6,7,8,9,10,5,2]\n",
    "\n",
    "common_elements = []\n",
    "for element1 in list1:\n",
    "    for element2 in list2:\n",
    "        if element1 == element2:\n",
    "            common_elements.append(element1)\n",
    "print(\"common elements:\", common_elements)"
   ]
  },
  {
   "cell_type": "markdown",
   "id": "29ad1ac8-a7b2-4c6e-862c-c0b7f5a8bb4f",
   "metadata": {},
   "source": [
    " ### 19.Develop a program that prints the pattern of right-angled triangles using a for loop. use'*' to draw the pattern."
   ]
  },
  {
   "cell_type": "code",
   "execution_count": 14,
   "id": "27821d4b-8a6a-4bed-a772-002b2659c589",
   "metadata": {},
   "outputs": [
    {
     "name": "stdout",
     "output_type": "stream",
     "text": [
      "* \n",
      "* * \n",
      "* * * \n",
      "* * * * \n",
      "* * * * * \n",
      "* * * * * * \n"
     ]
    }
   ],
   "source": [
    "num_rows = 6\n",
    "for i in range(1 , num_rows + 1):\n",
    "    for j in range(1, i +1):\n",
    "        print(\"*\" , end = \" \")\n",
    "    print()"
   ]
  },
  {
   "cell_type": "markdown",
   "id": "76eb33cd-17f7-4365-b09a-09b165ea8654",
   "metadata": {},
   "source": [
    "### 20.write a program to find the greatest common divisor (GCD)of two numbers using a for loop."
   ]
  },
  {
   "cell_type": "code",
   "execution_count": 21,
   "id": "35ada030-0281-4925-a763-68b305736fbf",
   "metadata": {},
   "outputs": [
    {
     "name": "stdin",
     "output_type": "stream",
     "text": [
      "enter first numbers: 5\n",
      "enter second numbers: 200\n"
     ]
    },
    {
     "name": "stdout",
     "output_type": "stream",
     "text": [
      "GCD of 5 and 200 is 5\n"
     ]
    }
   ],
   "source": [
    "def find_gcd(x,y):\n",
    "    common_divisors = []\n",
    "    for i in range (1,min(x,y) + 1):\n",
    "        if x % i == 0 and y % i == 0:\n",
    "            common_divisors.append(i)\n",
    "    return max(common_divisors)\n",
    "num1 = int(input(\"enter first numbers:\"))\n",
    "num2 = int(input(\"enter second numbers:\"))\n",
    "gcd = find_gcd(num1 ,num2)\n",
    "print(\"GCD of\", num1,\"and\" , num2, \"is\", gcd)\n",
    "        "
   ]
  },
  {
   "cell_type": "markdown",
   "id": "021fa5e1-3501-4227-b173-124a9a1ec875",
   "metadata": {},
   "source": [
    "## ADVANCED LEVEL:"
   ]
  },
  {
   "cell_type": "markdown",
   "id": "89939c53-54fa-45cf-b558-143db3058623",
   "metadata": {},
   "source": [
    "### 21.Create a program that calculates the sum of the digits of numbers in a list using list comprehension."
   ]
  },
  {
   "cell_type": "code",
   "execution_count": 28,
   "id": "838678bb-99ec-495b-aff0-598524e5d373",
   "metadata": {},
   "outputs": [
    {
     "name": "stdout",
     "output_type": "stream",
     "text": [
      "sum of digits in 123 is 6\n",
      "sum of digits in 12 is 3\n",
      "sum of digits in 4 is 4\n",
      "sum of digits in 5 is 5\n",
      "sum of digits in 6 is 6\n",
      "sum of digits in 90 is 9\n"
     ]
    }
   ],
   "source": [
    "def digit_sum(num):\n",
    "    return sum(int(digit) for digit in str(num))\n",
    "numbers = [123,12,4,5,6,90]\n",
    "sums = [digit_sum(num) for num in numbers]\n",
    "for i in  range(len(numbers)):\n",
    "    print(f\"sum of digits in {numbers[i]} is {sums[i]}\")"
   ]
  },
  {
   "cell_type": "markdown",
   "id": "c1fb654e-3094-41a9-a2b5-d964615858ee",
   "metadata": {},
   "source": [
    "### 22.Write a program to find the prime factors of a given numbers using for loop and list comprehension."
   ]
  },
  {
   "cell_type": "code",
   "execution_count": 6,
   "id": "05bb3efd-e28a-42d1-92a1-219ab6345b2a",
   "metadata": {},
   "outputs": [
    {
     "name": "stdin",
     "output_type": "stream",
     "text": [
      "enter number:  100\n"
     ]
    },
    {
     "name": "stdout",
     "output_type": "stream",
     "text": [
      "prime factors of 100 are: [2, 5]\n"
     ]
    }
   ],
   "source": [
    "def prime_factors(n):\n",
    "    factors = [x for x in range(2, n+1) if n % x == 0]\n",
    "    prime_factors = []\n",
    "    for factor in factors:\n",
    "        is_prime = True\n",
    "        for num in range(2, int(factor ** 0.5)+1):\n",
    "            if factor % num == 0:\n",
    "                is_prime = False\n",
    "                break\n",
    "        if is_prime:\n",
    "            prime_factors.append(factor)\n",
    "    return prime_factors\n",
    "number = int(input(\"enter number: \"))\n",
    "factors = prime_factors(number)\n",
    "if factors:\n",
    "    print(\"prime factors of\", number, \"are:\", factors)\n",
    "else:\n",
    "    print(\"there are no prime factor for\", number)"
   ]
  },
  {
   "cell_type": "markdown",
   "id": "1b3c3219-1daa-4a25-ba15-c930d6328c7c",
   "metadata": {},
   "source": [
    "### 23.develop a program that extracts unique elements from a list and stores them in a new list using a list comprehension."
   ]
  },
  {
   "cell_type": "code",
   "execution_count": 7,
   "id": "57c7543b-e41a-45f0-b4cd-7cd5f0c88037",
   "metadata": {},
   "outputs": [
    {
     "name": "stdout",
     "output_type": "stream",
     "text": [
      "my_list: [1, 2, 3, 4, 2, 5, 6, 7, 3, 7]\n",
      "unique elements: [1, 2, 3, 4, 5, 6, 7]\n"
     ]
    }
   ],
   "source": [
    "my_list = [1,2,3,4,2,5,6,7,3,7,]\n",
    "unique_elements = [x for i , x in enumerate(my_list) if x not in my_list[:i]]\n",
    "print(\"my_list:\", my_list)\n",
    "print(\"unique elements:\", unique_elements)"
   ]
  },
  {
   "cell_type": "markdown",
   "id": "9dc1ef4d-91c9-45cd-8c50-c91864ef64eb",
   "metadata": {},
   "source": [
    "### 24.create a program that generates a list of all palindromic numbers up to a specified limit using list comprehension"
   ]
  },
  {
   "cell_type": "code",
   "execution_count": 14,
   "id": "affdfbe2-bb59-4de7-a3e1-1184f89df1ba",
   "metadata": {},
   "outputs": [
    {
     "name": "stdin",
     "output_type": "stream",
     "text": [
      "enter limit: 6\n"
     ]
    },
    {
     "name": "stdout",
     "output_type": "stream",
     "text": [
      "palindromic numbers up to 6 are: [1, 2, 3, 4, 5, 6]\n"
     ]
    }
   ],
   "source": [
    "def is_palindrome(num):\n",
    "    return str(num)== str(num)[::-1]\n",
    "limit = int(input(\"enter limit:\"))\n",
    "palindromic_numbers = [num for num in range (1, limit + 1) if  is_palindrome(num)]\n",
    "print(\"palindromic numbers up to\", limit, \"are:\", palindromic_numbers)"
   ]
  },
  {
   "cell_type": "markdown",
   "id": "1e0a7ede-5267-414e-b57b-449b844c07e5",
   "metadata": {},
   "source": [
    "### 25.write a program to flatten a nested list using list comprehension."
   ]
  },
  {
   "cell_type": "code",
   "execution_count": 16,
   "id": "ed1dd7a9-7c35-4f82-b679-dfe3c5a33482",
   "metadata": {},
   "outputs": [
    {
     "name": "stdout",
     "output_type": "stream",
     "text": [
      "flattend list: [1, 2, 4, 5, 3, 6]\n"
     ]
    }
   ],
   "source": [
    "nested_list = [[1,2],[4,5],[3,6]]\n",
    "flattened_list = [element for sublist in nested_list for element in sublist]\n",
    "print(\"flattend list:\", flattened_list)"
   ]
  },
  {
   "cell_type": "markdown",
   "id": "562a67a8-88ec-4047-b178-9ff4b0fa7314",
   "metadata": {},
   "source": [
    "### 26.develop program that computes the sum of even and odd numbers in a list separately using list comprehension."
   ]
  },
  {
   "cell_type": "code",
   "execution_count": 1,
   "id": "76b2b445-ed5a-4b31-a02e-e4788f059b73",
   "metadata": {},
   "outputs": [
    {
     "name": "stdout",
     "output_type": "stream",
     "text": [
      "sum of even numbers: 12\n",
      "sum of odd numbers: 16\n"
     ]
    }
   ],
   "source": [
    "num = [1,2,3,4,5,6,7]\n",
    "even_numbers = [x for x in num if x % 2 == 0 ]\n",
    "odd_numbers = [x for x in num if x % 2 != 0]\n",
    "sum_even = sum(even_numbers)\n",
    "sum_odd = sum(odd_numbers)\n",
    "\n",
    "print(\"sum of even numbers:\", sum_even)\n",
    "print(\"sum of odd numbers:\", sum_odd)"
   ]
  },
  {
   "cell_type": "markdown",
   "id": "4194d003-97e1-43f1-b884-d4fc5366057a",
   "metadata": {},
   "source": [
    "### 27.create program that generates a list of squares of odd numbers between 1 and 10 using list comprehension."
   ]
  },
  {
   "cell_type": "code",
   "execution_count": 2,
   "id": "a222b846-c1b6-4f56-8229-0dc3d8064a82",
   "metadata": {},
   "outputs": [
    {
     "name": "stdout",
     "output_type": "stream",
     "text": [
      "list of squares of odd numbers between 1 to 10: [1, 9, 25, 49, 81]\n"
     ]
    }
   ],
   "source": [
    "squares_of_odd_numbers = [x**2 for x in range(1,11) if x % 2!=0]\n",
    "print(\"list of squares of odd numbers between 1 to 10:\", squares_of_odd_numbers)"
   ]
  },
  {
   "cell_type": "markdown",
   "id": "c23f67f7-9c30-45f1-be03-c6b48cb30f81",
   "metadata": {},
   "source": [
    "### 28.write a program that combines two lists into a dictionary using list comprehension."
   ]
  },
  {
   "cell_type": "code",
   "execution_count": 5,
   "id": "7e7e4654-9410-4485-a8f7-206ea6f6607a",
   "metadata": {},
   "outputs": [
    {
     "name": "stdout",
     "output_type": "stream",
     "text": [
      "combined dictionary: {'aki': 12, 'bhagat': 9, 'good': 99}\n"
     ]
    }
   ],
   "source": [
    "keys = ['aki','bhagat','good']\n",
    "value = [12,9,99] \n",
    "combined_dict = {key:value for key, value in zip (keys,value)}\n",
    "print(\"combined dictionary:\", combined_dict)\n"
   ]
  },
  {
   "cell_type": "markdown",
   "id": "42937d6c-b174-4ba8-a74e-aad9564e845c",
   "metadata": {},
   "source": [
    "### 29.develop a program that extracts the vowels from a string and stores them in a list using list comprehension."
   ]
  },
  {
   "cell_type": "code",
   "execution_count": 6,
   "id": "47ea677d-51b0-4c1d-aea0-083e74a64524",
   "metadata": {},
   "outputs": [
    {
     "name": "stdin",
     "output_type": "stream",
     "text": [
      "enter  a string: hello,good morning\n"
     ]
    },
    {
     "name": "stdout",
     "output_type": "stream",
     "text": [
      "vowels from string: ['e', 'o', 'o', 'o', 'o', 'i']\n"
     ]
    }
   ],
   "source": [
    "my_string = input(\"enter  a string:\")\n",
    "\n",
    "vowels = [char for char in my_string if char.lower() in 'aeiou']\n",
    "\n",
    "print(\"vowels from string:\", vowels)"
   ]
  },
  {
   "cell_type": "markdown",
   "id": "b5a63277-9d8d-4317-9ae4-c2b49e7a7b69",
   "metadata": {},
   "source": [
    "### 30.create a program that removes all non-numeric characters from a list of string using list comprehension."
   ]
  },
  {
   "cell_type": "code",
   "execution_count": 10,
   "id": "f8abd5bf-e8b3-4936-9145-ce8d1e8cf589",
   "metadata": {},
   "outputs": [
    {
     "name": "stdout",
     "output_type": "stream",
     "text": [
      "list of numeric string: ['23', '123']\n"
     ]
    }
   ],
   "source": [
    "my_string = ['axh23','123ab']\n",
    "numeric_string = [''.join(char for char in  string if char.isnumeric()) for string in my_string]\n",
    "print(\"list of numeric string:\", numeric_string)"
   ]
  },
  {
   "cell_type": "markdown",
   "id": "7efed763-5394-467c-8530-69992fd992e8",
   "metadata": {},
   "source": [
    "## CHALLENGE LEVEL:"
   ]
  },
  {
   "cell_type": "markdown",
   "id": "2538b878-89f2-4b21-aa32-b2f7cea27340",
   "metadata": {},
   "source": [
    "### 31.Write a program to generate a list of prime numbers using the sieve of eratosthenes algorithm and list comprehension."
   ]
  },
  {
   "cell_type": "code",
   "execution_count": 12,
   "id": "2af39ff9-2602-41ef-9913-e95739f92840",
   "metadata": {},
   "outputs": [
    {
     "name": "stdin",
     "output_type": "stream",
     "text": [
      "enter limit for prime numbers: 100\n"
     ]
    },
    {
     "name": "stdout",
     "output_type": "stream",
     "text": [
      "prime numbers up to 100 are: [2, 3, 5, 7, 11, 13, 17, 19, 23, 29, 31, 37, 41, 43, 47, 53, 59, 61, 67, 71, 73, 79, 83, 89, 97]\n"
     ]
    }
   ],
   "source": [
    "def sieve_eratosthenes(limit):\n",
    "    primes = [True] * (limit + 1)\n",
    "    primes[0] = primes[1] = False\n",
    "    p = 2\n",
    "    while p**2 <= limit:\n",
    "        if primes[p]:\n",
    "            for i in range(p**2, limit + 1, p):\n",
    "                primes[i] = False\n",
    "        p += 1\n",
    "    return [ i for i, is_prime in enumerate(primes) if is_prime]\n",
    "limit = int(input(\"enter limit for prime numbers:\"))\n",
    "prime_numbers = sieve_eratosthenes(limit)\n",
    "print(\"prime numbers up to\", limit, \"are:\", prime_numbers)\n",
    "        "
   ]
  },
  {
   "cell_type": "markdown",
   "id": "8e6ca809-9e54-4bae-ac65-eb6ef33ac020",
   "metadata": {},
   "source": [
    "### 32.Create a program that generates a list of all pythagorean triplets up to a specified limit using list comprehension."
   ]
  },
  {
   "cell_type": "code",
   "execution_count": 15,
   "id": "3018acf8-b76b-4f46-bcdb-ab2a809ff9c7",
   "metadata": {},
   "outputs": [
    {
     "name": "stdin",
     "output_type": "stream",
     "text": [
      "enter a limit for pythagorean triplets: 20\n"
     ]
    },
    {
     "name": "stdout",
     "output_type": "stream",
     "text": [
      "pythagorean triplets up to 20 are: [(3, 4, 5), (5, 12, 13), (6, 8, 10), (8, 15, 17), (9, 12, 15), (12, 16, 20)]\n"
     ]
    }
   ],
   "source": [
    "limit = int(input(\"enter a limit for pythagorean triplets:\"))\n",
    "pythagorean_triplets = [(a,b,c) for a in range(1, limit + 1)\n",
    "                        for b in range (a, limit +1)\n",
    "                        for c in range(b, limit +1)\n",
    "                        if a**2 + b**2 == c**2]\n",
    "print(\"pythagorean triplets up to\", limit,\"are:\", pythagorean_triplets)"
   ]
  },
  {
   "cell_type": "markdown",
   "id": "6f8f9742-e85b-48d5-984f-51f3275bfa48",
   "metadata": {},
   "source": [
    "### 33 Develop a program that generates a list of all possible combinations of two lists using list comprehension."
   ]
  },
  {
   "cell_type": "code",
   "execution_count": 18,
   "id": "90194335-c8cf-4733-bbff-75962daefd9a",
   "metadata": {},
   "outputs": [
    {
     "name": "stdout",
     "output_type": "stream",
     "text": [
      "all possible combinations of elements from the  two lists:\n",
      "('akanksha', 12)\n",
      "('akanksha', 13)\n",
      "('bhagat', 12)\n",
      "('bhagat', 13)\n"
     ]
    }
   ],
   "source": [
    "list1 = ['akanksha','bhagat']\n",
    "list2 = [12,13]\n",
    "combination = [(x,y) for x in list1 for y in list2]\n",
    "print(\"all possible combinations of elements from the  two lists:\")\n",
    "for combination in combination:\n",
    "    print(combination)"
   ]
  },
  {
   "cell_type": "markdown",
   "id": "7170d5b4-07e1-4e21-b16a-031e74297432",
   "metadata": {},
   "source": [
    "### 34.Write a program that calculates the mean, median, and mode of a list of numbers using list comprehension."
   ]
  },
  {
   "cell_type": "code",
   "execution_count": 2,
   "id": "b36a8a7d-c16d-4830-a980-a6220865587c",
   "metadata": {},
   "outputs": [
    {
     "name": "stdout",
     "output_type": "stream",
     "text": [
      "mean: 4.5\n",
      "median: 4.5\n",
      "mode: 1\n"
     ]
    }
   ],
   "source": [
    "from statistics import mean, median, mode\n",
    "numbers = [1,2,3,4,5,6,7,8]\n",
    "mean_value = mean(numbers)\n",
    "median_value = median(numbers)\n",
    "mode_value = mode(numbers)\n",
    "\n",
    "print(\"mean:\", mean_value)\n",
    "print(\"median:\", median_value)\n",
    "print(\"mode:\", mode_value)"
   ]
  },
  {
   "cell_type": "markdown",
   "id": "7f39d216-cf05-40a2-bb2a-8be183730b43",
   "metadata": {},
   "source": [
    "### 35.Create a program that generates pascal's triangle up to a specified number of rows using list comprehension."
   ]
  },
  {
   "cell_type": "code",
   "execution_count": 6,
   "id": "ef51338e-fd3a-4217-aa8b-8bfffb9d20a1",
   "metadata": {},
   "outputs": [
    {
     "name": "stdin",
     "output_type": "stream",
     "text": [
      "enetr number of  row for pascal's triangle: 3\n"
     ]
    },
    {
     "name": "stdout",
     "output_type": "stream",
     "text": [
      "[1]\n",
      "[1, 1]\n",
      "[1, 2, 1]\n"
     ]
    }
   ],
   "source": [
    "def generate_pascals_triangle(n):\n",
    "    triangle = []\n",
    "    for i in range(n):\n",
    "        if i ==0:\n",
    "            row = [1]\n",
    "        else:\n",
    "            previous_row = triangle[i - 1]\n",
    "            row = [1] + [previous_row[j] + previous_row[j + 1] for j in range(i-1)]+[1]\n",
    "        triangle.append(row)\n",
    "    return triangle\n",
    "num_rows = int(input(\"enetr number of  row for pascal's triangle:\"))\n",
    "pascals_triangle = generate_pascals_triangle(num_rows)\n",
    "for row in pascals_triangle:\n",
    "    print(row)"
   ]
  },
  {
   "cell_type": "markdown",
   "id": "d8fbc3c0-ae43-4688-84a2-955795d085d4",
   "metadata": {},
   "source": [
    "### 36.develop a program that calculates the sum of the digits of a factorial of numbers from 1 to 5 using list comprehension."
   ]
  },
  {
   "cell_type": "code",
   "execution_count": 4,
   "id": "82931e66-0925-42e6-b22e-10c20892c609",
   "metadata": {},
   "outputs": [
    {
     "name": "stdout",
     "output_type": "stream",
     "text": [
      "factorial of 1 is 1 and sum of its digits is 1\n",
      "factorial of 2 is 2 and sum of its digits is 2\n",
      "factorial of 3 is 6 and sum of its digits is 6\n",
      "factorial of 4 is 24 and sum of its digits is 6\n",
      "factorial of 5 is 120 and sum of its digits is 3\n"
     ]
    }
   ],
   "source": [
    "def factorial(n):\n",
    "    if n == 0:\n",
    "        return 1\n",
    "    else:\n",
    "        return n * factorial(n-1)\n",
    "numbers = [1,2,3,4,5]\n",
    "\n",
    "factorials = [factorial(num) for num in numbers]\n",
    "digit_sums =[sum(int(digit) for digit in str(fact)) for fact in factorials]\n",
    "for i in range(len(numbers)):\n",
    "    print(f\"factorial of {numbers[i]} is {factorials[i]} and sum of its digits is {digit_sums[i]}\")"
   ]
  },
  {
   "cell_type": "markdown",
   "id": "4c8e8759-141a-4dd9-a9e4-d1865557b78c",
   "metadata": {},
   "source": [
    "### 37.Write a program that finds the longest word in a sentence using list comprehension."
   ]
  },
  {
   "cell_type": "code",
   "execution_count": 6,
   "id": "f4d5b35f-0201-4627-8718-9cf492cca7c9",
   "metadata": {},
   "outputs": [
    {
     "name": "stdin",
     "output_type": "stream",
     "text": [
      "enter a sentence: longest word in list comprehension\n"
     ]
    },
    {
     "name": "stdout",
     "output_type": "stream",
     "text": [
      "longest word in sentence is: comprehension\n"
     ]
    }
   ],
   "source": [
    "my_sentence = input(\"enter a sentence:\")\n",
    "words = my_sentence.split()\n",
    "longest_word = max(words, key = len)\n",
    "\n",
    "print(\"longest word in sentence is:\", longest_word)\n"
   ]
  },
  {
   "cell_type": "markdown",
   "id": "76f47145-40a6-4bb9-8e82-0297011edc2d",
   "metadata": {},
   "source": [
    "### 38.Create a program that filters a list of string to include only those with more than three vowels using list comprehension."
   ]
  },
  {
   "cell_type": "code",
   "execution_count": 16,
   "id": "95ad8de3-c1d3-4171-87dd-cb2974ae2c23",
   "metadata": {},
   "outputs": [
    {
     "name": "stdout",
     "output_type": "stream",
     "text": [
      "string with more than three vowels: ['comprehension', 'aeiou']\n"
     ]
    }
   ],
   "source": [
    "strings = [\"hello\",\"world\",\"programming\",\"python\",\"list\",\"comprehension\",\"vowels\",\"aeiou\"]\n",
    "def count_vowels(string):\n",
    "    return sum(1 for char in string if char in \"aeiouAEIOU\")\n",
    "filtered_strings = [string for string in strings if count_vowels(string)>3]\n",
    "print(\"string with more than three vowels:\", filtered_strings)"
   ]
  },
  {
   "cell_type": "markdown",
   "id": "4c52d324-cc8f-486a-9f43-0b6210f4f9aa",
   "metadata": {},
   "source": [
    "### 39.Develop a program that calculates the sum of the digits of numbers from 1 to 1000 using list comprehension."
   ]
  },
  {
   "cell_type": "code",
   "execution_count": 19,
   "id": "0f8add1d-bffa-49cc-ad7f-005a10c9ae68",
   "metadata": {},
   "outputs": [
    {
     "name": "stdout",
     "output_type": "stream",
     "text": [
      "the total sum of digits from 1 to 1000: 13501\n"
     ]
    }
   ],
   "source": [
    "sum_of_digits = [sum(int(digit) for digit in str(num)) for num in range(1,1001)]\n",
    "total_sum = sum(sum_of_digits)\n",
    "print(\"the total sum of digits from 1 to 1000:\", total_sum)"
   ]
  },
  {
   "cell_type": "markdown",
   "id": "72e88813-13d1-414a-97ba-67f474b8305a",
   "metadata": {},
   "source": [
    "### 40.Write a program that generates a list of prime palindromic numbers using list comprehension."
   ]
  },
  {
   "cell_type": "code",
   "execution_count": 36,
   "id": "ce6a4f73-8547-426d-8aac-a3acfadff949",
   "metadata": {},
   "outputs": [
    {
     "name": "stdout",
     "output_type": "stream",
     "text": [
      "prime palindromic numbers: [2, 3, 5, 7, 11, 101, 131, 151, 181, 191, 313, 353, 373, 383, 727, 757, 787, 797, 919, 929]\n"
     ]
    }
   ],
   "source": [
    "def is_prime(n):\n",
    "    if n <= 1:\n",
    "        return False\n",
    "    if n <= 3:\n",
    "        return True\n",
    "    if n % 2 == 0 or n % 3 == 0:\n",
    "        return False\n",
    "    i = 5\n",
    "    while i*i <= n:\n",
    "        if n % i == 0 or n % (i + 2) == 0:\n",
    "            return False\n",
    "        i += 6\n",
    "    return True\n",
    "prime_palindromic_numbers = [n for n in range(1,1000) if is_prime(n) and str(n) == str(n)[::-1]]\n",
    "print(\"prime palindromic numbers:\", prime_palindromic_numbers)\n",
    "        "
   ]
  },
  {
   "cell_type": "code",
   "execution_count": null,
   "id": "8522de9d-e8b5-436f-bed9-076919563bbe",
   "metadata": {},
   "outputs": [],
   "source": []
  }
 ],
 "metadata": {
  "kernelspec": {
   "display_name": "Python 3 (ipykernel)",
   "language": "python",
   "name": "python3"
  },
  "language_info": {
   "codemirror_mode": {
    "name": "ipython",
    "version": 3
   },
   "file_extension": ".py",
   "mimetype": "text/x-python",
   "name": "python",
   "nbconvert_exporter": "python",
   "pygments_lexer": "ipython3",
   "version": "3.10.8"
  }
 },
 "nbformat": 4,
 "nbformat_minor": 5
}
